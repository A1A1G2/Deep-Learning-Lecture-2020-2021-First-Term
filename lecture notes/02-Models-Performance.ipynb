{
 "cells": [
  {
   "cell_type": "markdown",
   "metadata": {},
   "source": [
    "# Model's Performance"
   ]
  },
  {
   "cell_type": "markdown",
   "metadata": {},
   "source": [
    "We need to evaluate of our model's performance after training procedure. In machine learning, a common task is the study and construction of algorithms that can learn from and make predictions on data. The data used to build final model usually comes from multiple datasets. In particular, three datasets are commonly used in different stages of the creation of the model.\n",
    "\n",
    "We can perform this task by dividing our dataset into 3 parts."
   ]
  },
  {
   "cell_type": "markdown",
   "metadata": {},
   "source": [
    "### Training Set"
   ]
  },
  {
   "cell_type": "markdown",
   "metadata": {},
   "source": [
    "The model is initially fit on a training set. That is a set of examples used to fit the parameters of the model. We can denote the training dataset as \n",
    "\n",
    "$$(X,y) = (x^1,y^1), (x^2,y^2), \\cdots, (x^m,y^m)$$"
   ]
  },
  {
   "cell_type": "markdown",
   "metadata": {},
   "source": [
    "### Validation Set"
   ]
  },
  {
   "cell_type": "markdown",
   "metadata": {},
   "source": [
    "The validation dataset provides an unbiased evaluation of a model fit on the training dataset while tuning the model's hyperparameters. For example, a set of examples used to tune the parameters of a classifier, in the MLP case, we would use the validation set to find the “optimal” number of hidden units or determine a stopping point for the back-propagation algorithm"
   ]
  },
  {
   "cell_type": "markdown",
   "metadata": {},
   "source": [
    "### Test Set"
   ]
  },
  {
   "cell_type": "markdown",
   "metadata": {},
   "source": [
    "The test set dataset is a dataset used to provide an unbiased evaluation of a final model fit on the training dataset. We can compute errors from this dataset. "
   ]
  },
  {
   "cell_type": "markdown",
   "metadata": {},
   "source": [
    "Let's show training/validation/test split."
   ]
  },
  {
   "cell_type": "code",
   "execution_count": 5,
   "metadata": {},
   "outputs": [
    {
     "data": {
      "text/html": [
       "<div>\n",
       "<style scoped>\n",
       "    .dataframe tbody tr th:only-of-type {\n",
       "        vertical-align: middle;\n",
       "    }\n",
       "\n",
       "    .dataframe tbody tr th {\n",
       "        vertical-align: top;\n",
       "    }\n",
       "\n",
       "    .dataframe thead th {\n",
       "        text-align: right;\n",
       "    }\n",
       "</style>\n",
       "<table border=\"1\" class=\"dataframe\">\n",
       "  <thead>\n",
       "    <tr style=\"text-align: right;\">\n",
       "      <th></th>\n",
       "      <th>Income</th>\n",
       "      <th>Limit</th>\n",
       "      <th>Rating</th>\n",
       "      <th>Cards</th>\n",
       "      <th>Age</th>\n",
       "      <th>Education</th>\n",
       "      <th>Gender</th>\n",
       "      <th>Student</th>\n",
       "      <th>Married</th>\n",
       "      <th>Ethnicity</th>\n",
       "      <th>Balance</th>\n",
       "    </tr>\n",
       "  </thead>\n",
       "  <tbody>\n",
       "    <tr>\n",
       "      <th>0</th>\n",
       "      <td>14.891</td>\n",
       "      <td>3606</td>\n",
       "      <td>283</td>\n",
       "      <td>2</td>\n",
       "      <td>34</td>\n",
       "      <td>11</td>\n",
       "      <td>Male</td>\n",
       "      <td>No</td>\n",
       "      <td>Yes</td>\n",
       "      <td>Caucasian</td>\n",
       "      <td>333</td>\n",
       "    </tr>\n",
       "    <tr>\n",
       "      <th>1</th>\n",
       "      <td>106.025</td>\n",
       "      <td>6645</td>\n",
       "      <td>483</td>\n",
       "      <td>3</td>\n",
       "      <td>82</td>\n",
       "      <td>15</td>\n",
       "      <td>Female</td>\n",
       "      <td>Yes</td>\n",
       "      <td>Yes</td>\n",
       "      <td>Asian</td>\n",
       "      <td>903</td>\n",
       "    </tr>\n",
       "    <tr>\n",
       "      <th>2</th>\n",
       "      <td>104.593</td>\n",
       "      <td>7075</td>\n",
       "      <td>514</td>\n",
       "      <td>4</td>\n",
       "      <td>71</td>\n",
       "      <td>11</td>\n",
       "      <td>Male</td>\n",
       "      <td>No</td>\n",
       "      <td>No</td>\n",
       "      <td>Asian</td>\n",
       "      <td>580</td>\n",
       "    </tr>\n",
       "    <tr>\n",
       "      <th>3</th>\n",
       "      <td>148.924</td>\n",
       "      <td>9504</td>\n",
       "      <td>681</td>\n",
       "      <td>3</td>\n",
       "      <td>36</td>\n",
       "      <td>11</td>\n",
       "      <td>Female</td>\n",
       "      <td>No</td>\n",
       "      <td>No</td>\n",
       "      <td>Asian</td>\n",
       "      <td>964</td>\n",
       "    </tr>\n",
       "    <tr>\n",
       "      <th>4</th>\n",
       "      <td>55.882</td>\n",
       "      <td>4897</td>\n",
       "      <td>357</td>\n",
       "      <td>2</td>\n",
       "      <td>68</td>\n",
       "      <td>16</td>\n",
       "      <td>Male</td>\n",
       "      <td>No</td>\n",
       "      <td>Yes</td>\n",
       "      <td>Caucasian</td>\n",
       "      <td>331</td>\n",
       "    </tr>\n",
       "  </tbody>\n",
       "</table>\n",
       "</div>"
      ],
      "text/plain": [
       "    Income  Limit  Rating  Cards  Age  Education  Gender Student Married  \\\n",
       "0   14.891   3606     283      2   34         11    Male      No     Yes   \n",
       "1  106.025   6645     483      3   82         15  Female     Yes     Yes   \n",
       "2  104.593   7075     514      4   71         11    Male      No      No   \n",
       "3  148.924   9504     681      3   36         11  Female      No      No   \n",
       "4   55.882   4897     357      2   68         16    Male      No     Yes   \n",
       "\n",
       "   Ethnicity  Balance  \n",
       "0  Caucasian      333  \n",
       "1      Asian      903  \n",
       "2      Asian      580  \n",
       "3      Asian      964  \n",
       "4  Caucasian      331  "
      ]
     },
     "execution_count": 5,
     "metadata": {},
     "output_type": "execute_result"
    }
   ],
   "source": [
    "import pandas as pd\n",
    "df = pd.read_csv('./data/Credit.csv')\n",
    "df.drop(columns=['Unnamed: 0'],inplace=True)\n",
    "df.head()"
   ]
  },
  {
   "cell_type": "code",
   "execution_count": 6,
   "metadata": {},
   "outputs": [
    {
     "name": "stdout",
     "output_type": "stream",
     "text": [
      "Number of the samples: 400\n"
     ]
    }
   ],
   "source": [
    "print('Number of the samples: {0}'.format(len(df)))"
   ]
  },
  {
   "cell_type": "code",
   "execution_count": 7,
   "metadata": {},
   "outputs": [],
   "source": [
    "def trainTestSplit(data, ratio = 0.8):\n",
    "    if isinstance(data, pd.DataFrame):\n",
    "        data = data.sample(frac=1).reset_index(drop=True)\n",
    "        train_pct_index =  int(ratio * len(data))        \n",
    "        train = data.iloc[:train_pct_index,:] \n",
    "        test = data.iloc[train_pct_index:,:]\n",
    "        test.reset_index(inplace=True, drop = True)\n",
    "        return train, test\n",
    "    elif isinstance(data,np.array):\n",
    "        X_train, X_test = data[:train_pct_index,0], data[train_pct_index:,0] \n",
    "        Y_train, Y_test = data[:train_pct_index,1:], data[train_pct_index:,1:]\n",
    "        return X_train, X_test, Y_train, Y_test"
   ]
  },
  {
   "cell_type": "code",
   "execution_count": 8,
   "metadata": {},
   "outputs": [],
   "source": [
    "train, test = trainTestSplit(df,0.6)"
   ]
  },
  {
   "cell_type": "code",
   "execution_count": 9,
   "metadata": {},
   "outputs": [
    {
     "data": {
      "text/html": [
       "<div>\n",
       "<style scoped>\n",
       "    .dataframe tbody tr th:only-of-type {\n",
       "        vertical-align: middle;\n",
       "    }\n",
       "\n",
       "    .dataframe tbody tr th {\n",
       "        vertical-align: top;\n",
       "    }\n",
       "\n",
       "    .dataframe thead th {\n",
       "        text-align: right;\n",
       "    }\n",
       "</style>\n",
       "<table border=\"1\" class=\"dataframe\">\n",
       "  <thead>\n",
       "    <tr style=\"text-align: right;\">\n",
       "      <th></th>\n",
       "      <th>Income</th>\n",
       "      <th>Limit</th>\n",
       "      <th>Rating</th>\n",
       "      <th>Cards</th>\n",
       "      <th>Age</th>\n",
       "      <th>Education</th>\n",
       "      <th>Gender</th>\n",
       "      <th>Student</th>\n",
       "      <th>Married</th>\n",
       "      <th>Ethnicity</th>\n",
       "      <th>Balance</th>\n",
       "    </tr>\n",
       "  </thead>\n",
       "  <tbody>\n",
       "    <tr>\n",
       "      <th>0</th>\n",
       "      <td>53.598</td>\n",
       "      <td>3714</td>\n",
       "      <td>286</td>\n",
       "      <td>3</td>\n",
       "      <td>73</td>\n",
       "      <td>17</td>\n",
       "      <td>Female</td>\n",
       "      <td>No</td>\n",
       "      <td>Yes</td>\n",
       "      <td>African American</td>\n",
       "      <td>0</td>\n",
       "    </tr>\n",
       "    <tr>\n",
       "      <th>1</th>\n",
       "      <td>26.427</td>\n",
       "      <td>5533</td>\n",
       "      <td>433</td>\n",
       "      <td>5</td>\n",
       "      <td>50</td>\n",
       "      <td>15</td>\n",
       "      <td>Female</td>\n",
       "      <td>Yes</td>\n",
       "      <td>Yes</td>\n",
       "      <td>Asian</td>\n",
       "      <td>1404</td>\n",
       "    </tr>\n",
       "    <tr>\n",
       "      <th>2</th>\n",
       "      <td>30.111</td>\n",
       "      <td>4336</td>\n",
       "      <td>339</td>\n",
       "      <td>1</td>\n",
       "      <td>81</td>\n",
       "      <td>18</td>\n",
       "      <td>Male</td>\n",
       "      <td>No</td>\n",
       "      <td>Yes</td>\n",
       "      <td>Caucasian</td>\n",
       "      <td>347</td>\n",
       "    </tr>\n",
       "    <tr>\n",
       "      <th>3</th>\n",
       "      <td>39.609</td>\n",
       "      <td>2539</td>\n",
       "      <td>188</td>\n",
       "      <td>1</td>\n",
       "      <td>40</td>\n",
       "      <td>14</td>\n",
       "      <td>Male</td>\n",
       "      <td>No</td>\n",
       "      <td>Yes</td>\n",
       "      <td>Asian</td>\n",
       "      <td>0</td>\n",
       "    </tr>\n",
       "    <tr>\n",
       "      <th>4</th>\n",
       "      <td>24.543</td>\n",
       "      <td>3206</td>\n",
       "      <td>243</td>\n",
       "      <td>2</td>\n",
       "      <td>62</td>\n",
       "      <td>12</td>\n",
       "      <td>Female</td>\n",
       "      <td>No</td>\n",
       "      <td>Yes</td>\n",
       "      <td>Caucasian</td>\n",
       "      <td>95</td>\n",
       "    </tr>\n",
       "  </tbody>\n",
       "</table>\n",
       "</div>"
      ],
      "text/plain": [
       "   Income  Limit  Rating  Cards  Age  Education  Gender Student Married  \\\n",
       "0  53.598   3714     286      3   73         17  Female      No     Yes   \n",
       "1  26.427   5533     433      5   50         15  Female     Yes     Yes   \n",
       "2  30.111   4336     339      1   81         18    Male      No     Yes   \n",
       "3  39.609   2539     188      1   40         14    Male      No     Yes   \n",
       "4  24.543   3206     243      2   62         12  Female      No     Yes   \n",
       "\n",
       "          Ethnicity  Balance  \n",
       "0  African American        0  \n",
       "1             Asian     1404  \n",
       "2         Caucasian      347  \n",
       "3             Asian        0  \n",
       "4         Caucasian       95  "
      ]
     },
     "execution_count": 9,
     "metadata": {},
     "output_type": "execute_result"
    }
   ],
   "source": [
    "train.head()"
   ]
  },
  {
   "cell_type": "code",
   "execution_count": 10,
   "metadata": {},
   "outputs": [
    {
     "data": {
      "text/html": [
       "<div>\n",
       "<style scoped>\n",
       "    .dataframe tbody tr th:only-of-type {\n",
       "        vertical-align: middle;\n",
       "    }\n",
       "\n",
       "    .dataframe tbody tr th {\n",
       "        vertical-align: top;\n",
       "    }\n",
       "\n",
       "    .dataframe thead th {\n",
       "        text-align: right;\n",
       "    }\n",
       "</style>\n",
       "<table border=\"1\" class=\"dataframe\">\n",
       "  <thead>\n",
       "    <tr style=\"text-align: right;\">\n",
       "      <th></th>\n",
       "      <th>Income</th>\n",
       "      <th>Limit</th>\n",
       "      <th>Rating</th>\n",
       "      <th>Cards</th>\n",
       "      <th>Age</th>\n",
       "      <th>Education</th>\n",
       "      <th>Gender</th>\n",
       "      <th>Student</th>\n",
       "      <th>Married</th>\n",
       "      <th>Ethnicity</th>\n",
       "      <th>Balance</th>\n",
       "    </tr>\n",
       "  </thead>\n",
       "  <tbody>\n",
       "    <tr>\n",
       "      <th>0</th>\n",
       "      <td>59.879</td>\n",
       "      <td>6906</td>\n",
       "      <td>527</td>\n",
       "      <td>6</td>\n",
       "      <td>78</td>\n",
       "      <td>15</td>\n",
       "      <td>Female</td>\n",
       "      <td>No</td>\n",
       "      <td>No</td>\n",
       "      <td>Caucasian</td>\n",
       "      <td>1032</td>\n",
       "    </tr>\n",
       "    <tr>\n",
       "      <th>1</th>\n",
       "      <td>39.055</td>\n",
       "      <td>5565</td>\n",
       "      <td>410</td>\n",
       "      <td>4</td>\n",
       "      <td>48</td>\n",
       "      <td>18</td>\n",
       "      <td>Female</td>\n",
       "      <td>No</td>\n",
       "      <td>Yes</td>\n",
       "      <td>Caucasian</td>\n",
       "      <td>772</td>\n",
       "    </tr>\n",
       "    <tr>\n",
       "      <th>2</th>\n",
       "      <td>36.362</td>\n",
       "      <td>5183</td>\n",
       "      <td>376</td>\n",
       "      <td>3</td>\n",
       "      <td>49</td>\n",
       "      <td>15</td>\n",
       "      <td>Male</td>\n",
       "      <td>No</td>\n",
       "      <td>Yes</td>\n",
       "      <td>African American</td>\n",
       "      <td>654</td>\n",
       "    </tr>\n",
       "    <tr>\n",
       "      <th>3</th>\n",
       "      <td>49.927</td>\n",
       "      <td>6396</td>\n",
       "      <td>485</td>\n",
       "      <td>3</td>\n",
       "      <td>75</td>\n",
       "      <td>17</td>\n",
       "      <td>Female</td>\n",
       "      <td>No</td>\n",
       "      <td>Yes</td>\n",
       "      <td>Caucasian</td>\n",
       "      <td>890</td>\n",
       "    </tr>\n",
       "    <tr>\n",
       "      <th>4</th>\n",
       "      <td>62.413</td>\n",
       "      <td>6457</td>\n",
       "      <td>455</td>\n",
       "      <td>2</td>\n",
       "      <td>71</td>\n",
       "      <td>11</td>\n",
       "      <td>Female</td>\n",
       "      <td>No</td>\n",
       "      <td>Yes</td>\n",
       "      <td>Caucasian</td>\n",
       "      <td>762</td>\n",
       "    </tr>\n",
       "  </tbody>\n",
       "</table>\n",
       "</div>"
      ],
      "text/plain": [
       "   Income  Limit  Rating  Cards  Age  Education  Gender Student Married  \\\n",
       "0  59.879   6906     527      6   78         15  Female      No      No   \n",
       "1  39.055   5565     410      4   48         18  Female      No     Yes   \n",
       "2  36.362   5183     376      3   49         15    Male      No     Yes   \n",
       "3  49.927   6396     485      3   75         17  Female      No     Yes   \n",
       "4  62.413   6457     455      2   71         11  Female      No     Yes   \n",
       "\n",
       "          Ethnicity  Balance  \n",
       "0         Caucasian     1032  \n",
       "1         Caucasian      772  \n",
       "2  African American      654  \n",
       "3         Caucasian      890  \n",
       "4         Caucasian      762  "
      ]
     },
     "execution_count": 10,
     "metadata": {},
     "output_type": "execute_result"
    }
   ],
   "source": [
    "test.head()"
   ]
  },
  {
   "cell_type": "code",
   "execution_count": 11,
   "metadata": {},
   "outputs": [
    {
     "name": "stdout",
     "output_type": "stream",
     "text": [
      "Number of samples in training set: 240 \n",
      "Number of samples in test set: 160\n"
     ]
    }
   ],
   "source": [
    "print('Number of samples in training set: {0} \\nNumber of samples in test set: {1}'.format(len(train),len(test)))"
   ]
  },
  {
   "cell_type": "markdown",
   "metadata": {},
   "source": [
    "Now let's split the test set as validation/test."
   ]
  },
  {
   "cell_type": "code",
   "execution_count": 12,
   "metadata": {},
   "outputs": [],
   "source": [
    "test, val = trainTestSplit(test,0.5)"
   ]
  },
  {
   "cell_type": "code",
   "execution_count": 13,
   "metadata": {},
   "outputs": [
    {
     "data": {
      "text/html": [
       "<div>\n",
       "<style scoped>\n",
       "    .dataframe tbody tr th:only-of-type {\n",
       "        vertical-align: middle;\n",
       "    }\n",
       "\n",
       "    .dataframe tbody tr th {\n",
       "        vertical-align: top;\n",
       "    }\n",
       "\n",
       "    .dataframe thead th {\n",
       "        text-align: right;\n",
       "    }\n",
       "</style>\n",
       "<table border=\"1\" class=\"dataframe\">\n",
       "  <thead>\n",
       "    <tr style=\"text-align: right;\">\n",
       "      <th></th>\n",
       "      <th>Income</th>\n",
       "      <th>Limit</th>\n",
       "      <th>Rating</th>\n",
       "      <th>Cards</th>\n",
       "      <th>Age</th>\n",
       "      <th>Education</th>\n",
       "      <th>Gender</th>\n",
       "      <th>Student</th>\n",
       "      <th>Married</th>\n",
       "      <th>Ethnicity</th>\n",
       "      <th>Balance</th>\n",
       "    </tr>\n",
       "  </thead>\n",
       "  <tbody>\n",
       "    <tr>\n",
       "      <th>0</th>\n",
       "      <td>26.400</td>\n",
       "      <td>5640</td>\n",
       "      <td>398</td>\n",
       "      <td>3</td>\n",
       "      <td>58</td>\n",
       "      <td>15</td>\n",
       "      <td>Female</td>\n",
       "      <td>No</td>\n",
       "      <td>No</td>\n",
       "      <td>Asian</td>\n",
       "      <td>905</td>\n",
       "    </tr>\n",
       "    <tr>\n",
       "      <th>1</th>\n",
       "      <td>12.000</td>\n",
       "      <td>4160</td>\n",
       "      <td>320</td>\n",
       "      <td>4</td>\n",
       "      <td>28</td>\n",
       "      <td>14</td>\n",
       "      <td>Female</td>\n",
       "      <td>No</td>\n",
       "      <td>Yes</td>\n",
       "      <td>Caucasian</td>\n",
       "      <td>602</td>\n",
       "    </tr>\n",
       "    <tr>\n",
       "      <th>2</th>\n",
       "      <td>16.482</td>\n",
       "      <td>3326</td>\n",
       "      <td>268</td>\n",
       "      <td>4</td>\n",
       "      <td>41</td>\n",
       "      <td>15</td>\n",
       "      <td>Male</td>\n",
       "      <td>No</td>\n",
       "      <td>No</td>\n",
       "      <td>Caucasian</td>\n",
       "      <td>271</td>\n",
       "    </tr>\n",
       "    <tr>\n",
       "      <th>3</th>\n",
       "      <td>16.711</td>\n",
       "      <td>5274</td>\n",
       "      <td>387</td>\n",
       "      <td>3</td>\n",
       "      <td>42</td>\n",
       "      <td>16</td>\n",
       "      <td>Female</td>\n",
       "      <td>No</td>\n",
       "      <td>Yes</td>\n",
       "      <td>Asian</td>\n",
       "      <td>863</td>\n",
       "    </tr>\n",
       "    <tr>\n",
       "      <th>4</th>\n",
       "      <td>29.638</td>\n",
       "      <td>5833</td>\n",
       "      <td>433</td>\n",
       "      <td>3</td>\n",
       "      <td>29</td>\n",
       "      <td>15</td>\n",
       "      <td>Female</td>\n",
       "      <td>No</td>\n",
       "      <td>Yes</td>\n",
       "      <td>Asian</td>\n",
       "      <td>942</td>\n",
       "    </tr>\n",
       "  </tbody>\n",
       "</table>\n",
       "</div>"
      ],
      "text/plain": [
       "   Income  Limit  Rating  Cards  Age  Education  Gender Student Married  \\\n",
       "0  26.400   5640     398      3   58         15  Female      No      No   \n",
       "1  12.000   4160     320      4   28         14  Female      No     Yes   \n",
       "2  16.482   3326     268      4   41         15    Male      No      No   \n",
       "3  16.711   5274     387      3   42         16  Female      No     Yes   \n",
       "4  29.638   5833     433      3   29         15  Female      No     Yes   \n",
       "\n",
       "   Ethnicity  Balance  \n",
       "0      Asian      905  \n",
       "1  Caucasian      602  \n",
       "2  Caucasian      271  \n",
       "3      Asian      863  \n",
       "4      Asian      942  "
      ]
     },
     "execution_count": 13,
     "metadata": {},
     "output_type": "execute_result"
    }
   ],
   "source": [
    "test.head()"
   ]
  },
  {
   "cell_type": "code",
   "execution_count": 14,
   "metadata": {},
   "outputs": [
    {
     "data": {
      "text/html": [
       "<div>\n",
       "<style scoped>\n",
       "    .dataframe tbody tr th:only-of-type {\n",
       "        vertical-align: middle;\n",
       "    }\n",
       "\n",
       "    .dataframe tbody tr th {\n",
       "        vertical-align: top;\n",
       "    }\n",
       "\n",
       "    .dataframe thead th {\n",
       "        text-align: right;\n",
       "    }\n",
       "</style>\n",
       "<table border=\"1\" class=\"dataframe\">\n",
       "  <thead>\n",
       "    <tr style=\"text-align: right;\">\n",
       "      <th></th>\n",
       "      <th>Income</th>\n",
       "      <th>Limit</th>\n",
       "      <th>Rating</th>\n",
       "      <th>Cards</th>\n",
       "      <th>Age</th>\n",
       "      <th>Education</th>\n",
       "      <th>Gender</th>\n",
       "      <th>Student</th>\n",
       "      <th>Married</th>\n",
       "      <th>Ethnicity</th>\n",
       "      <th>Balance</th>\n",
       "    </tr>\n",
       "  </thead>\n",
       "  <tbody>\n",
       "    <tr>\n",
       "      <th>0</th>\n",
       "      <td>10.503</td>\n",
       "      <td>2923</td>\n",
       "      <td>232</td>\n",
       "      <td>3</td>\n",
       "      <td>25</td>\n",
       "      <td>18</td>\n",
       "      <td>Female</td>\n",
       "      <td>No</td>\n",
       "      <td>Yes</td>\n",
       "      <td>African American</td>\n",
       "      <td>191</td>\n",
       "    </tr>\n",
       "    <tr>\n",
       "      <th>1</th>\n",
       "      <td>115.123</td>\n",
       "      <td>7760</td>\n",
       "      <td>538</td>\n",
       "      <td>3</td>\n",
       "      <td>83</td>\n",
       "      <td>14</td>\n",
       "      <td>Female</td>\n",
       "      <td>No</td>\n",
       "      <td>No</td>\n",
       "      <td>African American</td>\n",
       "      <td>661</td>\n",
       "    </tr>\n",
       "    <tr>\n",
       "      <th>2</th>\n",
       "      <td>128.669</td>\n",
       "      <td>9824</td>\n",
       "      <td>685</td>\n",
       "      <td>3</td>\n",
       "      <td>67</td>\n",
       "      <td>16</td>\n",
       "      <td>Male</td>\n",
       "      <td>No</td>\n",
       "      <td>Yes</td>\n",
       "      <td>Asian</td>\n",
       "      <td>1243</td>\n",
       "    </tr>\n",
       "    <tr>\n",
       "      <th>3</th>\n",
       "      <td>39.055</td>\n",
       "      <td>5565</td>\n",
       "      <td>410</td>\n",
       "      <td>4</td>\n",
       "      <td>48</td>\n",
       "      <td>18</td>\n",
       "      <td>Female</td>\n",
       "      <td>No</td>\n",
       "      <td>Yes</td>\n",
       "      <td>Caucasian</td>\n",
       "      <td>772</td>\n",
       "    </tr>\n",
       "    <tr>\n",
       "      <th>4</th>\n",
       "      <td>61.620</td>\n",
       "      <td>5140</td>\n",
       "      <td>374</td>\n",
       "      <td>1</td>\n",
       "      <td>71</td>\n",
       "      <td>9</td>\n",
       "      <td>Male</td>\n",
       "      <td>No</td>\n",
       "      <td>Yes</td>\n",
       "      <td>Caucasian</td>\n",
       "      <td>302</td>\n",
       "    </tr>\n",
       "  </tbody>\n",
       "</table>\n",
       "</div>"
      ],
      "text/plain": [
       "    Income  Limit  Rating  Cards  Age  Education  Gender Student Married  \\\n",
       "0   10.503   2923     232      3   25         18  Female      No     Yes   \n",
       "1  115.123   7760     538      3   83         14  Female      No      No   \n",
       "2  128.669   9824     685      3   67         16    Male      No     Yes   \n",
       "3   39.055   5565     410      4   48         18  Female      No     Yes   \n",
       "4   61.620   5140     374      1   71          9    Male      No     Yes   \n",
       "\n",
       "          Ethnicity  Balance  \n",
       "0  African American      191  \n",
       "1  African American      661  \n",
       "2             Asian     1243  \n",
       "3         Caucasian      772  \n",
       "4         Caucasian      302  "
      ]
     },
     "execution_count": 14,
     "metadata": {},
     "output_type": "execute_result"
    }
   ],
   "source": [
    "val.head()"
   ]
  },
  {
   "cell_type": "code",
   "execution_count": 15,
   "metadata": {},
   "outputs": [
    {
     "name": "stdout",
     "output_type": "stream",
     "text": [
      "Number of samples in test set: 80 \n",
      "Number of samples in validation set: 80\n"
     ]
    }
   ],
   "source": [
    "print('Number of samples in test set: {0} \\nNumber of samples in validation set: {1}'.format(len(test),len(val)))"
   ]
  },
  {
   "cell_type": "markdown",
   "metadata": {},
   "source": [
    "## Evaluating Regression Models"
   ]
  },
  {
   "cell_type": "markdown",
   "metadata": {},
   "source": [
    "### Evaluating Linear Regression"
   ]
  },
  {
   "cell_type": "markdown",
   "metadata": {},
   "source": [
    "After we built a Linear Regression model, we need to see evaluation metrics based on this model due to validity of our model.\n",
    "\n",
    "The $\\text{L}^2$ loss, mean squared error (MSE), is one of the tools for evaluation. We defined last week as: \n",
    "\n",
    "$$ L(\\hat{y},y) = \\frac{1}{m} \\sum_i [y^i - (\\theta_0 + \\theta_1 x_1 + \\theta_2 x_2 + \\cdots + \\theta_n x_n]^2$$\n",
    "\n",
    "$$ = \\frac{1}{m} \\sum_i (y^i - \\hat{y}^i)^2$$"
   ]
  },
  {
   "cell_type": "markdown",
   "metadata": {},
   "source": [
    "MSE or Mean Squared Error is one of the most preferred metrics for regression tasks. It is simply the average of the squared difference between the target value and the value predicted by the regression model. As it squares the differences, it penalizes even a small error which leads to over-estimation of how bad the model is. "
   ]
  },
  {
   "cell_type": "markdown",
   "metadata": {},
   "source": [
    "If MSE is relatively big, that mean our model is not suitable for the data or vice-versa."
   ]
  },
  {
   "cell_type": "markdown",
   "metadata": {},
   "source": [
    "Also the Root Mean Squared Error (RMSE) can be used for evaluation. RMSE is the most widely used metric for regression tasks and is the square root of the averaged squared difference between the target value and the value predicted by the model. It is preferred more in some cases because the errors are first squared before averaging which poses a high penalty on large errors. This implies that RMSE is useful when large errors are undesired.\n",
    "\n",
    "$$L(\\hat{y},y) = \\sqrt{\\frac{\\sum_i (y^i - \\hat{y}^i)^2}{m} }$$"
   ]
  },
  {
   "cell_type": "markdown",
   "metadata": {},
   "source": [
    "Another example for evaluation is Mean Absolute Error (MAE). MAE is the absolute difference between the target value and the value predicted by the model. The MAE is more robust to outliers and does not penalize the errors as extremely as mse. MAE is a linear score which means all the individual differences are weighted equally. It is not suitable for applications where you want to pay more attention to the outliers.\n",
    "\n",
    "$$L(\\hat{y},y) = \\frac{1}{m} \\sum_i |y^i - \\hat{y}^i|$$"
   ]
  },
  {
   "cell_type": "markdown",
   "metadata": {},
   "source": [
    "Another powerfull example for evaluation is $\\text{R}^2$ error (also known as the Coefficient of Determination). The MSE provides an absolute measure of the lack of fit of the model to the data. But since it is measured in the units of $y$, it is not always clear what constitutes a good MSE. The $\\text{R}^2$ statistics provides an alternative measure of fit. It takes the form of proportion and so it always takes on a value between 0 and 1, and it is independent of the scale of Y.\n",
    "\n",
    "To calculate $\\text{R}^2$, we use the formula"
   ]
  },
  {
   "cell_type": "markdown",
   "metadata": {},
   "source": [
    "$$ \\text{R}^2 = \\frac{\\sum_i (y^i - \\bar{y})^2 - \\sum_i (y^i - \\hat{y}^i)^2}{\\sum_i (y^i - \\bar{y})^2}$$\n",
    "\n",
    "$$ = 1 - \\frac{\\sum_i (y^i - \\hat{y}^i)^2}{\\sum_i (y^i - \\bar{y})^2}$$"
   ]
  },
  {
   "cell_type": "markdown",
   "metadata": {},
   "source": [
    "where,\n",
    "\n",
    "$$\\bar{y} = \\frac{1}{m}\\sum_i y^i$$"
   ]
  },
  {
   "cell_type": "markdown",
   "metadata": {},
   "source": [
    "An $\\text{R}^2$ statistic, if feature $X$ can predict the target, then the proportion is high and the $\\text{R}^2$ value will be close to 1. If opposite is true, the $\\text{R}^2$ value is then closer to 0."
   ]
  },
  {
   "cell_type": "code",
   "execution_count": 16,
   "metadata": {},
   "outputs": [
    {
     "data": {
      "text/html": [
       "<div>\n",
       "<style scoped>\n",
       "    .dataframe tbody tr th:only-of-type {\n",
       "        vertical-align: middle;\n",
       "    }\n",
       "\n",
       "    .dataframe tbody tr th {\n",
       "        vertical-align: top;\n",
       "    }\n",
       "\n",
       "    .dataframe thead th {\n",
       "        text-align: right;\n",
       "    }\n",
       "</style>\n",
       "<table border=\"1\" class=\"dataframe\">\n",
       "  <thead>\n",
       "    <tr style=\"text-align: right;\">\n",
       "      <th></th>\n",
       "      <th>SAT</th>\n",
       "      <th>GPA</th>\n",
       "    </tr>\n",
       "  </thead>\n",
       "  <tbody>\n",
       "    <tr>\n",
       "      <th>0</th>\n",
       "      <td>1714</td>\n",
       "      <td>2.40</td>\n",
       "    </tr>\n",
       "    <tr>\n",
       "      <th>1</th>\n",
       "      <td>1664</td>\n",
       "      <td>2.52</td>\n",
       "    </tr>\n",
       "    <tr>\n",
       "      <th>2</th>\n",
       "      <td>1760</td>\n",
       "      <td>2.54</td>\n",
       "    </tr>\n",
       "    <tr>\n",
       "      <th>3</th>\n",
       "      <td>1685</td>\n",
       "      <td>2.74</td>\n",
       "    </tr>\n",
       "    <tr>\n",
       "      <th>4</th>\n",
       "      <td>1693</td>\n",
       "      <td>2.83</td>\n",
       "    </tr>\n",
       "  </tbody>\n",
       "</table>\n",
       "</div>"
      ],
      "text/plain": [
       "    SAT   GPA\n",
       "0  1714  2.40\n",
       "1  1664  2.52\n",
       "2  1760  2.54\n",
       "3  1685  2.74\n",
       "4  1693  2.83"
      ]
     },
     "execution_count": 16,
     "metadata": {},
     "output_type": "execute_result"
    }
   ],
   "source": [
    "import numpy as np \n",
    "import os \n",
    "import matplotlib.pyplot as plt\n",
    "import pandas as pd\n",
    "from sklearn.model_selection import train_test_split\n",
    "from sklearn.linear_model import LinearRegression\n",
    "from sklearn.metrics import mean_squared_error\n",
    "pd.options.mode.chained_assignment = None\n",
    "\n",
    "df = pd.read_csv('./data/slr.csv')\n",
    "df.head()"
   ]
  },
  {
   "cell_type": "code",
   "execution_count": 17,
   "metadata": {},
   "outputs": [
    {
     "data": {
      "text/html": [
       "<div>\n",
       "<style scoped>\n",
       "    .dataframe tbody tr th:only-of-type {\n",
       "        vertical-align: middle;\n",
       "    }\n",
       "\n",
       "    .dataframe tbody tr th {\n",
       "        vertical-align: top;\n",
       "    }\n",
       "\n",
       "    .dataframe thead th {\n",
       "        text-align: right;\n",
       "    }\n",
       "</style>\n",
       "<table border=\"1\" class=\"dataframe\">\n",
       "  <thead>\n",
       "    <tr style=\"text-align: right;\">\n",
       "      <th></th>\n",
       "      <th>SAT</th>\n",
       "      <th>GPA</th>\n",
       "    </tr>\n",
       "  </thead>\n",
       "  <tbody>\n",
       "    <tr>\n",
       "      <th>count</th>\n",
       "      <td>84.000000</td>\n",
       "      <td>84.000000</td>\n",
       "    </tr>\n",
       "    <tr>\n",
       "      <th>mean</th>\n",
       "      <td>1845.273810</td>\n",
       "      <td>3.330238</td>\n",
       "    </tr>\n",
       "    <tr>\n",
       "      <th>std</th>\n",
       "      <td>104.530661</td>\n",
       "      <td>0.271617</td>\n",
       "    </tr>\n",
       "    <tr>\n",
       "      <th>min</th>\n",
       "      <td>1634.000000</td>\n",
       "      <td>2.400000</td>\n",
       "    </tr>\n",
       "    <tr>\n",
       "      <th>25%</th>\n",
       "      <td>1772.000000</td>\n",
       "      <td>3.190000</td>\n",
       "    </tr>\n",
       "    <tr>\n",
       "      <th>50%</th>\n",
       "      <td>1846.000000</td>\n",
       "      <td>3.380000</td>\n",
       "    </tr>\n",
       "    <tr>\n",
       "      <th>75%</th>\n",
       "      <td>1934.000000</td>\n",
       "      <td>3.502500</td>\n",
       "    </tr>\n",
       "    <tr>\n",
       "      <th>max</th>\n",
       "      <td>2050.000000</td>\n",
       "      <td>3.810000</td>\n",
       "    </tr>\n",
       "  </tbody>\n",
       "</table>\n",
       "</div>"
      ],
      "text/plain": [
       "               SAT        GPA\n",
       "count    84.000000  84.000000\n",
       "mean   1845.273810   3.330238\n",
       "std     104.530661   0.271617\n",
       "min    1634.000000   2.400000\n",
       "25%    1772.000000   3.190000\n",
       "50%    1846.000000   3.380000\n",
       "75%    1934.000000   3.502500\n",
       "max    2050.000000   3.810000"
      ]
     },
     "execution_count": 17,
     "metadata": {},
     "output_type": "execute_result"
    }
   ],
   "source": [
    "df.describe()"
   ]
  },
  {
   "cell_type": "code",
   "execution_count": 18,
   "metadata": {},
   "outputs": [],
   "source": [
    "def trainTestSplit(data, ratio = 0.8):\n",
    "    if isinstance(data, pd.DataFrame):\n",
    "        data = data.sample(frac=1).reset_index(drop=True)\n",
    "        train_pct_index =  int(ratio * len(data))        \n",
    "        train = data.iloc[:train_pct_index,:] \n",
    "        test = data.iloc[train_pct_index:,:]\n",
    "        test.reset_index(inplace=True, drop = True)\n",
    "        return train, test\n",
    "    elif isinstance(data,np.array):\n",
    "        X_train, X_test = data[:train_pct_index,0], data[train_pct_index:,0] \n",
    "        Y_train, Y_test = data[:train_pct_index,1:], data[train_pct_index:,1:]\n",
    "        return X_train, X_test, Y_train, Y_test"
   ]
  },
  {
   "cell_type": "code",
   "execution_count": 19,
   "metadata": {},
   "outputs": [],
   "source": [
    "df_train, df_test = trainTestSplit(df, ratio = 0.9)"
   ]
  },
  {
   "cell_type": "code",
   "execution_count": 24,
   "metadata": {},
   "outputs": [
    {
     "name": "stdout",
     "output_type": "stream",
     "text": [
      "Number of samples in data: 84 \n",
      "Number of samples in training set: 75 \n",
      "Number of samples in test set: 9\n"
     ]
    }
   ],
   "source": [
    "print('Number of samples in data: {0} \\nNumber of samples in training set: {1} \\nNumber of samples in test set: {2}'\n",
    "      .format(len(df),len(df_train),len(df_test)))"
   ]
  },
  {
   "cell_type": "code",
   "execution_count": 25,
   "metadata": {},
   "outputs": [],
   "source": [
    "X_train = df_train.iloc[:,0]\n",
    "y_train = df_train.iloc[:,1]"
   ]
  },
  {
   "cell_type": "code",
   "execution_count": 26,
   "metadata": {},
   "outputs": [],
   "source": [
    "X_train_arr = np.array(X_train)\n",
    "X_train_arr.shape = (X_train_arr.shape[0],1)\n",
    "y_train_arr = np.array(y_train)\n",
    "y_train_arr.shape = (y_train_arr.shape[0],1)\n",
    "model = LinearRegression();\n",
    "model.fit(X_train_arr, y_train_arr)\n",
    "y_pred = model.predict(X_train_arr);"
   ]
  },
  {
   "cell_type": "code",
   "execution_count": 27,
   "metadata": {},
   "outputs": [],
   "source": [
    "from sklearn.metrics import r2_score\n",
    "mse = mean_squared_error(y_train_arr,y_pred)\n",
    "r2 = r2_score(y_train_arr,y_pred)"
   ]
  },
  {
   "cell_type": "code",
   "execution_count": 28,
   "metadata": {
    "scrolled": true
   },
   "outputs": [
    {
     "data": {
      "text/plain": [
       "[<matplotlib.lines.Line2D at 0x7fc857dffa58>]"
      ]
     },
     "execution_count": 28,
     "metadata": {},
     "output_type": "execute_result"
    },
    {
     "data": {
      "image/png": "[encoded data removed]",
      "text/plain": [
       "<Figure size 360x360 with 1 Axes>"
      ]
     },
     "metadata": {
      "needs_background": "light"
     },
     "output_type": "display_data"
    }
   ],
   "source": [
    "import matplotlib.pyplot as plt\n",
    "fig = plt.figure(figsize=(5,5))\n",
    "plt.scatter(X_train, y_train, color = \"red\")\n",
    "plt.plot(X_train, y_pred, color = \"green\")"
   ]
  },
  {
   "cell_type": "markdown",
   "metadata": {},
   "source": [
    "### Evaluating Logistic Regression\n",
    "#### Misclassification Error"
   ]
  },
  {
   "cell_type": "markdown",
   "metadata": {},
   "source": [
    "Before evaluating Logistic Regression, let's do a probabilistic evaluation of errors on decision making."
   ]
  },
  {
   "cell_type": "markdown",
   "metadata": {},
   "source": [
    "Suppose that we have two classes $C = \\{C_k: k \\in \\{1,2\\}\\}$ and we have random samples from a Gaussian Distribution, $x$. This samples are generated from two Gaussian Distribution. Let's denote this two Gussian Distribution as $C_1 \\sim \\mathcal{N}(\\mu_1,\\boldsymbol\\sigma_1)$ and $C_2 \\sim \\mathcal{N}(\\mu_1,\\boldsymbol\\sigma_1)$. Some samples are generated from first distribution that are correspond to class $C_1$ and others are generated from second distribution that are correspond to class $C_2$. As you can see; that implies, this is a binary classification task. In real life, our generated samples $x$ are not real data. But it is clear to see the concepts."
   ]
  },
  {
   "cell_type": "markdown",
   "metadata": {},
   "source": [
    "Now let's define our distributions. First, let's choose distribution of $C_1$ bimodal. In other words, it is concatenation of two Gaussian Distribution. Choose parameters for $C_1$, $\\mu_{11} = -2$, $\\mu_{12} = 25$, $\\sigma_{11} = 5$, $\\sigma_{12} = 7$. So, the distribution of $C_1$ is, \n",
    "$$p(x, C_{1_1}) = \\frac{1}{5 \\sqrt{2\\pi}} \\exp\\left(\\frac{-(x-(-2))^2}{2 \\cdot 25}\\right)$$\n",
    "$$p(x, C_{1_1}) = \\frac{1}{7 \\sqrt{2\\pi}} \\exp\\left(\\frac{-(x-25)^2}{2 \\cdot 49}\\right)$$\n",
    "$$p(x, C_{1}) = \\left[\\frac{1}{5 \\sqrt{2\\pi}} \\exp\\left(\\frac{-(x-(-2))^2}{2 \\cdot 25}\\right);\\frac{1}{7 \\sqrt{2\\pi}} \\exp\\left(\\frac{-(x-25)^2}{2 \\cdot 49}\\right)\\right]$$\n",
    "And the distribution of $C_2$ as follows,\n",
    "$$p(x, C_{1_1}) = \\frac{1}{6 \\sqrt{2\\pi}} \\exp\\left(\\frac{-(x-25)^2}{2 \\cdot 36}\\right)$$\n"
   ]
  },
  {
   "cell_type": "code",
   "execution_count": 29,
   "metadata": {},
   "outputs": [
    {
     "data": {
      "text/plain": [
       "[]"
      ]
     },
     "execution_count": 29,
     "metadata": {},
     "output_type": "execute_result"
    },
    {
     "data": {
      "image/png": "[encoded data removed]",
      "text/plain": [
       "<Figure size 1080x504 with 1 Axes>"
      ]
     },
     "metadata": {
      "needs_background": "light"
     },
     "output_type": "display_data"
    }
   ],
   "source": [
    "import numpy as np\n",
    "import pandas as pd\n",
    "import seaborn as sns\n",
    "import matplotlib.pyplot as plt\n",
    "\n",
    "mean2, std2 = 25, 6\n",
    "\n",
    "mean11, std11 = -2, 5\n",
    "mean12, std12 = 25, 7\n",
    "X1 = np.random.normal(mean11, std11, 100000)\n",
    "X2 = np.random.normal(mean12, std12, 100000)\n",
    "dist1 = np.concatenate([X1, X2])\n",
    "\n",
    "dist2 = np.random.normal(mean2,std2,750000)\n",
    "\n",
    "fig = plt.figure(figsize = (15,7))\n",
    "sns.kdeplot(dist1, shade=True)\n",
    "sns.kdeplot(dist2,shade=True)\n",
    "x1, y1 = [25, 25], [0, 0.07]\n",
    "x2, y2 = [12,12], [0, 0.06]\n",
    "plt.plot(x2,y2,linestyle='dashed',color='blue')\n",
    "plt.plot(x1,y1,linestyle='dashed',color='black')\n",
    "plt.text(19.5, 0.01, '$A_1$',fontsize=15)\n",
    "plt.text(28, 0.01, '$A_2$',fontsize=15)\n",
    "plt.text(20, 0.04, '$A_3$',fontsize=15)\n",
    "plt.annotate('$R_1$', xy=(25,0.07), xytext=(-30,0.07),\n",
    "            arrowprops={'arrowstyle': '->'}, va='center',fontsize=20)\n",
    "plt.annotate('$R_2$', xy=(25,0.07), xytext=(60,0.07),\n",
    "            arrowprops={'arrowstyle': '->'}, va='center',fontsize=20)\n",
    "plt.text(27, 0.067, 'Decision Boundary $D_1$',fontsize=11)\n",
    "plt.text(2, 0.061, 'Optimal Decision Boundary $D_2$',fontsize=11)\n",
    "plt.text(-18, 0.02, '$p(x,C_1)$',fontsize=17)\n",
    "plt.text(34, 0.045, '$p(x,C_2)$',fontsize=17)\n",
    "plt.plot()"
   ]
  },
  {
   "cell_type": "markdown",
   "metadata": {},
   "source": [
    "We need a rule that assigns each value of $x$ to one of the available classes. Such a rule will divide the input space into regions $R_k$ called *decision regions*, one for each class, such that all points in $R_k$ are assigned into class $C_k$. The boundaries between decision regions are called *decision boundaries*.\n",
    "\n",
    "A mistake occurs when an input vector belonging to class $C_1$ is assigned to class $C_2$ or vice versa. The probability of this occurrence is given by:\n",
    "\n",
    "$$p(mistake) = p(x \\in R_1, C_2) + p(x \\in R_2, C_1)$$\n",
    "\n",
    "$$= \\int_{R_1}p(x,C_2)dx + \\int_{R_2}p(x,C_1)dx$$"
   ]
  },
  {
   "cell_type": "markdown",
   "metadata": {},
   "source": [
    "Clearly to minimize  $p(mistake)$, we should arrange that each $x$ is assigned to whichever class has smaller value of in the integrals. Thus, if $p(x,C_1) > p(x,C_2)$ for a given value of $x$, then we should assign that x to class $C_1$. From the product rule of probability, we have $p(x,C_k) = p(C_k | x) p(x)$. As you can see, both sides are divided by factor $p(x)$ which is common. So we can rewrite the inequality as $p(C_1 | x) > p(C_2 | x)$. This means that the minimum probability of making a mistake is obtained if each value of x is assigned to the class for which the posterior probability $p(C_k | x)$ is largest."
   ]
  },
  {
   "cell_type": "markdown",
   "metadata": {},
   "source": [
    "For the general case of multi-class tasks, we can easily say that maximizing the correctnes is slightly easier that minimizing the mistake\n",
    "\n",
    "$$p(correct) = \\sum_{k=1}^{K}p(x \\in R_k, C_k)$$\n",
    "\n",
    "$$= \\sum_{k=1}^{K} \\int_{R_k}p(x,C_k)dx$$"
   ]
  },
  {
   "cell_type": "markdown",
   "metadata": {},
   "source": [
    "To explain the above figure, values of $x > D_1$ are classified as class $C_2$ and hence belong to decision region $R_2$. Whereas points $x < D_1$ classified as $C_1$ and belong to $R_1$. The mistake/error arise from regions $A_1, A_2$ and $A_3$. So that; for $x < D_1$, the errors are due to points from class $C_2$ being misclassified as $C_1$ (computed as sum  $A_1 + A_3$). And; for $x > D_1$,  the errors are due to points from class $C_1$ being misclassified as $C_2$ (area of $A_2$).\n",
    "\n",
    "Actually, as you can see, the optimal choice for decision boundary is line $D_2$. Because in this case, region $A_3$ disappears. This is equivalent to the minimum misclassification rate decision rule, which assigns each value of $x$ to the class having the higher posterior probability $p(C_k | x)$."
   ]
  },
  {
   "cell_type": "markdown",
   "metadata": {},
   "source": [
    "Now let's apply what we learn above to evaluating Logistic regression."
   ]
  },
  {
   "cell_type": "markdown",
   "metadata": {},
   "source": [
    "#### Confusion Matrix"
   ]
  },
  {
   "cell_type": "code",
   "execution_count": null,
   "metadata": {},
   "outputs": [],
   "source": []
  }
 ],
 "metadata": {
  "kernelspec": {
   "display_name": "Python 3",
   "language": "python",
   "name": "python3"
  },
  "language_info": {
   "codemirror_mode": {
    "name": "ipython",
    "version": 3
   },
   "file_extension": ".py",
   "mimetype": "text/x-python",
   "name": "python",
   "nbconvert_exporter": "python",
   "pygments_lexer": "ipython3",
   "version": "3.6.10"
  }
 },
 "nbformat": 4,
 "nbformat_minor": 4
}
